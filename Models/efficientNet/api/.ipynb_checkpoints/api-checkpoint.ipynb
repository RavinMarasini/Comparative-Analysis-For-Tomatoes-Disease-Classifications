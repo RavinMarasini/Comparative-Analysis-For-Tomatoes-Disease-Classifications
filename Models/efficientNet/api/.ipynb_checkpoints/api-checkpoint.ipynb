{
 "cells": [
  {
   "cell_type": "code",
   "execution_count": 13,
   "id": "fbd6f45c",
   "metadata": {},
   "outputs": [],
   "source": [
    "from fastapi import FastAPI, File, UploadFile\n",
    "from fastapi.middleware.cors import CORSMiddleware\n",
    "import uvicorn\n",
    "import numpy as np\n",
    "from io import BytesIO\n",
    "from PIL import Image\n",
    "import tensorflow as tf"
   ]
  },
  {
   "cell_type": "code",
   "execution_count": 14,
   "id": "ff5f1b6a",
   "metadata": {},
   "outputs": [],
   "source": [
    "app = FastAPI()\n",
    "\n",
    "origins = [\n",
    "    \"http://localhost\",\n",
    "    \"http://localhost:3000\",\n",
    "]\n",
    "app.add_middleware(\n",
    "    CORSMiddleware,\n",
    "    allow_origins=origins,\n",
    "    allow_credentials=True,\n",
    "    allow_methods=[\"*\"],\n",
    "    allow_headers=[\"*\"],\n",
    ")"
   ]
  },
  {
   "cell_type": "code",
   "execution_count": 15,
   "id": "09e62868",
   "metadata": {},
   "outputs": [
    {
     "name": "stdout",
     "output_type": "stream",
     "text": [
      "<tensorflow.python.saved_model.load.Loader._recreate_base_user_object.<locals>._UserObject object at 0x0000019EF5A4D950>\n"
     ]
    }
   ],
   "source": [
    "# MODEL = tf.keras.models.load_model(\"../saved_models/1\")\n",
    "\n",
    "try:\n",
    "    MODEL = tf.saved_model.load(\"../models/1\")\n",
    "    print(MODEL)\n",
    "except Exception as e:\n",
    "    print(\"Error loading the model:\", e)"
   ]
  },
  {
   "cell_type": "code",
   "execution_count": 16,
   "id": "600ef681",
   "metadata": {},
   "outputs": [],
   "source": [
    "CLASS_NAMES = [\n",
    "\"Tomato_Bacterial_spot\",\n",
    "\"Tomato_Early_blight\",\n",
    "\"Tomato_healthy\",\n",
    "\"Tomato_Late_blight\",\n",
    "\"Tomato_Leaf_Mold\",\n",
    "\"Tomato_Septoria_leaf_spot\",\n",
    "\"Tomato_Spider_mites_Two_spotted_spider_mite\",\n",
    "\"Tomato__Target_Spot\",\n",
    "\"Tomato__Tomato_mosaic_virus\",\n",
    "\"Tomato__Tomato_YellowLeaf__Curl_Virus\"\n",
    "]\n"
   ]
  },
  {
   "cell_type": "code",
   "execution_count": 17,
   "id": "212cdb47",
   "metadata": {},
   "outputs": [],
   "source": [
    "@app.get(\"/ping\")\n",
    "async def ping():\n",
    "    return \"Hello, I am alive right now\""
   ]
  },
  {
   "cell_type": "code",
   "execution_count": null,
   "id": "e290cdf4",
   "metadata": {},
   "outputs": [
    {
     "name": "stderr",
     "output_type": "stream",
     "text": [
      "INFO:     Started server process [10392]\n",
      "INFO:     Waiting for application startup.\n",
      "INFO:     Application startup complete.\n",
      "INFO:     Uvicorn running on http://127.0.0.1:8000 (Press CTRL+C to quit)\n"
     ]
    },
    {
     "name": "stdout",
     "output_type": "stream",
     "text": [
      "INFO:     127.0.0.1:49359 - \"GET / HTTP/1.1\" 404 Not Found\n",
      "INFO:     127.0.0.1:49359 - \"GET /favicon.ico HTTP/1.1\" 404 Not Found\n",
      "INFO:     127.0.0.1:49374 - \"GET /ping HTTP/1.1\" 200 OK\n",
      "INFO:     127.0.0.1:49390 - \"GET /ping HTTP/1.1\" 200 OK\n"
     ]
    }
   ],
   "source": [
    "import asyncio\n",
    "import uvicorn\n",
    "\n",
    "if __name__ == \"__main__\":\n",
    "    config = uvicorn.Config(app)\n",
    "    server = uvicorn.Server(config)\n",
    "    await server.serve()"
   ]
  }
 ],
 "metadata": {
  "kernelspec": {
   "display_name": "Python 3 (ipykernel)",
   "language": "python",
   "name": "python3"
  },
  "language_info": {
   "codemirror_mode": {
    "name": "ipython",
    "version": 3
   },
   "file_extension": ".py",
   "mimetype": "text/x-python",
   "name": "python",
   "nbconvert_exporter": "python",
   "pygments_lexer": "ipython3",
   "version": "3.11.5"
  }
 },
 "nbformat": 4,
 "nbformat_minor": 5
}
